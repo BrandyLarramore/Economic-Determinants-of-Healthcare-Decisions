{
 "cells": [
  {
   "cell_type": "code",
   "execution_count": 1,
   "metadata": {},
   "outputs": [],
   "source": [
    "import pandas as pd\n",
    "from matplotlib import pyplot as plt\n",
    "import seaborn as sns"
   ]
  },
  {
   "cell_type": "markdown",
   "metadata": {},
   "source": [
    "Load in the data"
   ]
  },
  {
   "cell_type": "code",
   "execution_count": 2,
   "metadata": {},
   "outputs": [
    {
     "data": {
      "text/html": [
       "<div>\n",
       "<style scoped>\n",
       "    .dataframe tbody tr th:only-of-type {\n",
       "        vertical-align: middle;\n",
       "    }\n",
       "\n",
       "    .dataframe tbody tr th {\n",
       "        vertical-align: top;\n",
       "    }\n",
       "\n",
       "    .dataframe thead th {\n",
       "        text-align: right;\n",
       "    }\n",
       "</style>\n",
       "<table border=\"1\" class=\"dataframe\">\n",
       "  <thead>\n",
       "    <tr style=\"text-align: right;\">\n",
       "      <th></th>\n",
       "      <th>Geography</th>\n",
       "      <th>Geographic Area Name</th>\n",
       "      <th>Geographic Area Name.1</th>\n",
       "      <th>Unnamed: 3</th>\n",
       "      <th>Estimate!!Households!!Total</th>\n",
       "      <th>Margin of Error!!Households!!Total</th>\n",
       "      <th>Estimate!!Households!!Total!!Less than $10,000</th>\n",
       "      <th>Margin of Error!!Households!!Total!!Less than $10,000</th>\n",
       "      <th>Estimate!!Households!!Total!!$10,000 to $14,999</th>\n",
       "      <th>Margin of Error!!Households!!Total!!$10,000 to $14,999</th>\n",
       "      <th>...</th>\n",
       "      <th>Estimate!!Nonfamily households!!Median income (dollars)</th>\n",
       "      <th>Margin of Error!!Nonfamily households!!Median income (dollars)</th>\n",
       "      <th>Estimate!!Nonfamily households!!Mean income (dollars)</th>\n",
       "      <th>Margin of Error!!Nonfamily households!!Mean income (dollars)</th>\n",
       "      <th>Estimate!!Nonfamily households!!PERCENT ALLOCATED!!Household income in the past 12 months</th>\n",
       "      <th>Margin of Error!!Nonfamily households!!PERCENT ALLOCATED!!Household income in the past 12 months</th>\n",
       "      <th>Estimate!!Nonfamily households!!PERCENT ALLOCATED!!Family income in the past 12 months</th>\n",
       "      <th>Margin of Error!!Nonfamily households!!PERCENT ALLOCATED!!Family income in the past 12 months</th>\n",
       "      <th>Estimate!!Nonfamily households!!PERCENT ALLOCATED!!Nonfamily income in the past 12 months</th>\n",
       "      <th>Margin of Error!!Nonfamily households!!PERCENT ALLOCATED!!Nonfamily income in the past 12 months</th>\n",
       "    </tr>\n",
       "  </thead>\n",
       "  <tbody>\n",
       "    <tr>\n",
       "      <th>0</th>\n",
       "      <td>0100000US</td>\n",
       "      <td>United States</td>\n",
       "      <td>United States</td>\n",
       "      <td>NaN</td>\n",
       "      <td>122802852</td>\n",
       "      <td>137327</td>\n",
       "      <td>5.8</td>\n",
       "      <td>0.1</td>\n",
       "      <td>4.0</td>\n",
       "      <td>0.1</td>\n",
       "      <td>...</td>\n",
       "      <td>39871</td>\n",
       "      <td>169</td>\n",
       "      <td>58110</td>\n",
       "      <td>220</td>\n",
       "      <td>(X)</td>\n",
       "      <td>(X)</td>\n",
       "      <td>(X)</td>\n",
       "      <td>(X)</td>\n",
       "      <td>32.7</td>\n",
       "      <td>(X)</td>\n",
       "    </tr>\n",
       "    <tr>\n",
       "      <th>1</th>\n",
       "      <td>0500000US01003</td>\n",
       "      <td>Baldwin County, Alabama</td>\n",
       "      <td>Baldwin County</td>\n",
       "      <td>Alabama</td>\n",
       "      <td>82325</td>\n",
       "      <td>3231</td>\n",
       "      <td>4.9</td>\n",
       "      <td>1.6</td>\n",
       "      <td>3.9</td>\n",
       "      <td>1.4</td>\n",
       "      <td>...</td>\n",
       "      <td>37494</td>\n",
       "      <td>5940</td>\n",
       "      <td>48871</td>\n",
       "      <td>5729</td>\n",
       "      <td>(X)</td>\n",
       "      <td>(X)</td>\n",
       "      <td>(X)</td>\n",
       "      <td>(X)</td>\n",
       "      <td>30.1</td>\n",
       "      <td>(X)</td>\n",
       "    </tr>\n",
       "    <tr>\n",
       "      <th>2</th>\n",
       "      <td>0500000US01015</td>\n",
       "      <td>Calhoun County, Alabama</td>\n",
       "      <td>Calhoun County</td>\n",
       "      <td>Alabama</td>\n",
       "      <td>44636</td>\n",
       "      <td>2010</td>\n",
       "      <td>9.6</td>\n",
       "      <td>3.1</td>\n",
       "      <td>7.3</td>\n",
       "      <td>2.4</td>\n",
       "      <td>...</td>\n",
       "      <td>26143</td>\n",
       "      <td>3350</td>\n",
       "      <td>32609</td>\n",
       "      <td>4229</td>\n",
       "      <td>(X)</td>\n",
       "      <td>(X)</td>\n",
       "      <td>(X)</td>\n",
       "      <td>(X)</td>\n",
       "      <td>35.7</td>\n",
       "      <td>(X)</td>\n",
       "    </tr>\n",
       "    <tr>\n",
       "      <th>3</th>\n",
       "      <td>0500000US01043</td>\n",
       "      <td>Cullman County, Alabama</td>\n",
       "      <td>Cullman County</td>\n",
       "      <td>Alabama</td>\n",
       "      <td>32090</td>\n",
       "      <td>1233</td>\n",
       "      <td>4.4</td>\n",
       "      <td>1.5</td>\n",
       "      <td>5.4</td>\n",
       "      <td>2.2</td>\n",
       "      <td>...</td>\n",
       "      <td>22464</td>\n",
       "      <td>3132</td>\n",
       "      <td>28508</td>\n",
       "      <td>2622</td>\n",
       "      <td>(X)</td>\n",
       "      <td>(X)</td>\n",
       "      <td>(X)</td>\n",
       "      <td>(X)</td>\n",
       "      <td>37.1</td>\n",
       "      <td>(X)</td>\n",
       "    </tr>\n",
       "    <tr>\n",
       "      <th>4</th>\n",
       "      <td>0500000US01049</td>\n",
       "      <td>DeKalb County, Alabama</td>\n",
       "      <td>DeKalb County</td>\n",
       "      <td>Alabama</td>\n",
       "      <td>24880</td>\n",
       "      <td>1347</td>\n",
       "      <td>7.2</td>\n",
       "      <td>2.8</td>\n",
       "      <td>8.4</td>\n",
       "      <td>3.8</td>\n",
       "      <td>...</td>\n",
       "      <td>21213</td>\n",
       "      <td>4028</td>\n",
       "      <td>36416</td>\n",
       "      <td>10258</td>\n",
       "      <td>(X)</td>\n",
       "      <td>(X)</td>\n",
       "      <td>(X)</td>\n",
       "      <td>(X)</td>\n",
       "      <td>36.0</td>\n",
       "      <td>(X)</td>\n",
       "    </tr>\n",
       "  </tbody>\n",
       "</table>\n",
       "<p>5 rows × 132 columns</p>\n",
       "</div>"
      ],
      "text/plain": [
       "        Geography     Geographic Area Name Geographic Area Name.1 Unnamed: 3  \\\n",
       "0       0100000US            United States          United States        NaN   \n",
       "1  0500000US01003  Baldwin County, Alabama         Baldwin County    Alabama   \n",
       "2  0500000US01015  Calhoun County, Alabama         Calhoun County    Alabama   \n",
       "3  0500000US01043  Cullman County, Alabama         Cullman County    Alabama   \n",
       "4  0500000US01049   DeKalb County, Alabama          DeKalb County    Alabama   \n",
       "\n",
       "   Estimate!!Households!!Total  Margin of Error!!Households!!Total  \\\n",
       "0                    122802852                              137327   \n",
       "1                        82325                                3231   \n",
       "2                        44636                                2010   \n",
       "3                        32090                                1233   \n",
       "4                        24880                                1347   \n",
       "\n",
       "   Estimate!!Households!!Total!!Less than $10,000  \\\n",
       "0                                             5.8   \n",
       "1                                             4.9   \n",
       "2                                             9.6   \n",
       "3                                             4.4   \n",
       "4                                             7.2   \n",
       "\n",
       "   Margin of Error!!Households!!Total!!Less than $10,000  \\\n",
       "0                                                0.1       \n",
       "1                                                1.6       \n",
       "2                                                3.1       \n",
       "3                                                1.5       \n",
       "4                                                2.8       \n",
       "\n",
       "   Estimate!!Households!!Total!!$10,000 to $14,999  \\\n",
       "0                                              4.0   \n",
       "1                                              3.9   \n",
       "2                                              7.3   \n",
       "3                                              5.4   \n",
       "4                                              8.4   \n",
       "\n",
       "   Margin of Error!!Households!!Total!!$10,000 to $14,999  ...  \\\n",
       "0                                                0.1       ...   \n",
       "1                                                1.4       ...   \n",
       "2                                                2.4       ...   \n",
       "3                                                2.2       ...   \n",
       "4                                                3.8       ...   \n",
       "\n",
       "   Estimate!!Nonfamily households!!Median income (dollars)  \\\n",
       "0                                              39871         \n",
       "1                                              37494         \n",
       "2                                              26143         \n",
       "3                                              22464         \n",
       "4                                              21213         \n",
       "\n",
       "   Margin of Error!!Nonfamily households!!Median income (dollars)  \\\n",
       "0                                                169                \n",
       "1                                               5940                \n",
       "2                                               3350                \n",
       "3                                               3132                \n",
       "4                                               4028                \n",
       "\n",
       "   Estimate!!Nonfamily households!!Mean income (dollars)  \\\n",
       "0                                              58110       \n",
       "1                                              48871       \n",
       "2                                              32609       \n",
       "3                                              28508       \n",
       "4                                              36416       \n",
       "\n",
       "   Margin of Error!!Nonfamily households!!Mean income (dollars)  \\\n",
       "0                                                220              \n",
       "1                                               5729              \n",
       "2                                               4229              \n",
       "3                                               2622              \n",
       "4                                              10258              \n",
       "\n",
       "   Estimate!!Nonfamily households!!PERCENT ALLOCATED!!Household income in the past 12 months  \\\n",
       "0                                                (X)                                           \n",
       "1                                                (X)                                           \n",
       "2                                                (X)                                           \n",
       "3                                                (X)                                           \n",
       "4                                                (X)                                           \n",
       "\n",
       "   Margin of Error!!Nonfamily households!!PERCENT ALLOCATED!!Household income in the past 12 months  \\\n",
       "0                                                (X)                                                  \n",
       "1                                                (X)                                                  \n",
       "2                                                (X)                                                  \n",
       "3                                                (X)                                                  \n",
       "4                                                (X)                                                  \n",
       "\n",
       "   Estimate!!Nonfamily households!!PERCENT ALLOCATED!!Family income in the past 12 months  \\\n",
       "0                                                (X)                                        \n",
       "1                                                (X)                                        \n",
       "2                                                (X)                                        \n",
       "3                                                (X)                                        \n",
       "4                                                (X)                                        \n",
       "\n",
       "   Margin of Error!!Nonfamily households!!PERCENT ALLOCATED!!Family income in the past 12 months  \\\n",
       "0                                                (X)                                               \n",
       "1                                                (X)                                               \n",
       "2                                                (X)                                               \n",
       "3                                                (X)                                               \n",
       "4                                                (X)                                               \n",
       "\n",
       "   Estimate!!Nonfamily households!!PERCENT ALLOCATED!!Nonfamily income in the past 12 months  \\\n",
       "0                                               32.7                                           \n",
       "1                                               30.1                                           \n",
       "2                                               35.7                                           \n",
       "3                                               37.1                                           \n",
       "4                                               36.0                                           \n",
       "\n",
       "   Margin of Error!!Nonfamily households!!PERCENT ALLOCATED!!Nonfamily income in the past 12 months  \n",
       "0                                                (X)                                                 \n",
       "1                                                (X)                                                 \n",
       "2                                                (X)                                                 \n",
       "3                                                (X)                                                 \n",
       "4                                                (X)                                                 \n",
       "\n",
       "[5 rows x 132 columns]"
      ]
     },
     "execution_count": 2,
     "metadata": {},
     "output_type": "execute_result"
    }
   ],
   "source": [
    "file_path_i = '../data/income2019.csv'\n",
    "income_data = pd.read_csv(file_path_i, skiprows=[0])\n",
    "income_data.head()"
   ]
  },
  {
   "cell_type": "markdown",
   "metadata": {},
   "source": [
    "Finding the existing median columns"
   ]
  },
  {
   "cell_type": "code",
   "execution_count": 3,
   "metadata": {},
   "outputs": [
    {
     "data": {
      "text/plain": [
       "['Estimate!!Households!!Median income (dollars)',\n",
       " 'Margin of Error!!Households!!Median income (dollars)',\n",
       " 'Estimate!!Families!!Median income (dollars)',\n",
       " 'Margin of Error!!Families!!Median income (dollars)',\n",
       " 'Estimate!!Married-couple families!!Median income (dollars)',\n",
       " 'Margin of Error!!Married-couple families!!Median income (dollars)',\n",
       " 'Estimate!!Nonfamily households!!Median income (dollars)',\n",
       " 'Margin of Error!!Nonfamily households!!Median income (dollars)']"
      ]
     },
     "execution_count": 3,
     "metadata": {},
     "output_type": "execute_result"
    }
   ],
   "source": [
    "median_income_columns = [col for col in income_data.columns if \"median\" in col.lower() and \"income\" in col.lower()] #trying to pull any columns that have existing calculated medians\n",
    "median_income_columns"
   ]
  },
  {
   "cell_type": "markdown",
   "metadata": {},
   "source": [
    "Removing the margin of error columns"
   ]
  },
  {
   "cell_type": "code",
   "execution_count": 4,
   "metadata": {},
   "outputs": [
    {
     "data": {
      "text/plain": [
       "['Estimate!!Households!!Median income (dollars)',\n",
       " 'Estimate!!Families!!Median income (dollars)',\n",
       " 'Estimate!!Married-couple families!!Median income (dollars)',\n",
       " 'Estimate!!Nonfamily households!!Median income (dollars)']"
      ]
     },
     "execution_count": 4,
     "metadata": {},
     "output_type": "execute_result"
    }
   ],
   "source": [
    "median_income_columns = [col for col in income_data.columns if \"median\" in col.lower() and \"income\" in col.lower() and \"margin of error\" not in col.lower()]\n",
    "median_income_columns"
   ]
  },
  {
   "cell_type": "code",
   "execution_count": 5,
   "metadata": {},
   "outputs": [
    {
     "data": {
      "text/plain": [
       "151800"
      ]
     },
     "execution_count": 5,
     "metadata": {},
     "output_type": "execute_result"
    }
   ],
   "source": [
    "income_data[\"Estimate!!Households!!Median income (dollars)\"].max()"
   ]
  },
  {
   "cell_type": "code",
   "execution_count": 6,
   "metadata": {},
   "outputs": [
    {
     "data": {
      "text/html": [
       "<div>\n",
       "<style scoped>\n",
       "    .dataframe tbody tr th:only-of-type {\n",
       "        vertical-align: middle;\n",
       "    }\n",
       "\n",
       "    .dataframe tbody tr th {\n",
       "        vertical-align: top;\n",
       "    }\n",
       "\n",
       "    .dataframe thead th {\n",
       "        text-align: right;\n",
       "    }\n",
       "</style>\n",
       "<table border=\"1\" class=\"dataframe\">\n",
       "  <thead>\n",
       "    <tr style=\"text-align: right;\">\n",
       "      <th></th>\n",
       "      <th>Estimate!!Households!!Median income (dollars)</th>\n",
       "      <th>Estimate!!Families!!Median income (dollars)</th>\n",
       "      <th>Estimate!!Married-couple families!!Median income (dollars)</th>\n",
       "      <th>Estimate!!Nonfamily households!!Median income (dollars)</th>\n",
       "    </tr>\n",
       "  </thead>\n",
       "  <tbody>\n",
       "    <tr>\n",
       "      <th>count</th>\n",
       "      <td>841.000000</td>\n",
       "      <td>841.000000</td>\n",
       "      <td>841.000000</td>\n",
       "      <td>841.000000</td>\n",
       "    </tr>\n",
       "    <tr>\n",
       "      <th>mean</th>\n",
       "      <td>64961.154578</td>\n",
       "      <td>80215.862069</td>\n",
       "      <td>94310.200951</td>\n",
       "      <td>38274.027348</td>\n",
       "    </tr>\n",
       "    <tr>\n",
       "      <th>std</th>\n",
       "      <td>17707.231321</td>\n",
       "      <td>20697.780459</td>\n",
       "      <td>22187.222445</td>\n",
       "      <td>11119.168451</td>\n",
       "    </tr>\n",
       "    <tr>\n",
       "      <th>min</th>\n",
       "      <td>14525.000000</td>\n",
       "      <td>18823.000000</td>\n",
       "      <td>26899.000000</td>\n",
       "      <td>9074.000000</td>\n",
       "    </tr>\n",
       "    <tr>\n",
       "      <th>25%</th>\n",
       "      <td>53067.000000</td>\n",
       "      <td>66546.000000</td>\n",
       "      <td>80016.000000</td>\n",
       "      <td>31337.000000</td>\n",
       "    </tr>\n",
       "    <tr>\n",
       "      <th>50%</th>\n",
       "      <td>61300.000000</td>\n",
       "      <td>76892.000000</td>\n",
       "      <td>90777.000000</td>\n",
       "      <td>36530.000000</td>\n",
       "    </tr>\n",
       "    <tr>\n",
       "      <th>75%</th>\n",
       "      <td>72797.000000</td>\n",
       "      <td>90719.000000</td>\n",
       "      <td>104138.000000</td>\n",
       "      <td>43252.000000</td>\n",
       "    </tr>\n",
       "    <tr>\n",
       "      <th>max</th>\n",
       "      <td>151800.000000</td>\n",
       "      <td>169887.000000</td>\n",
       "      <td>191064.000000</td>\n",
       "      <td>105235.000000</td>\n",
       "    </tr>\n",
       "  </tbody>\n",
       "</table>\n",
       "</div>"
      ],
      "text/plain": [
       "       Estimate!!Households!!Median income (dollars)  \\\n",
       "count                                     841.000000   \n",
       "mean                                    64961.154578   \n",
       "std                                     17707.231321   \n",
       "min                                     14525.000000   \n",
       "25%                                     53067.000000   \n",
       "50%                                     61300.000000   \n",
       "75%                                     72797.000000   \n",
       "max                                    151800.000000   \n",
       "\n",
       "       Estimate!!Families!!Median income (dollars)  \\\n",
       "count                                   841.000000   \n",
       "mean                                  80215.862069   \n",
       "std                                   20697.780459   \n",
       "min                                   18823.000000   \n",
       "25%                                   66546.000000   \n",
       "50%                                   76892.000000   \n",
       "75%                                   90719.000000   \n",
       "max                                  169887.000000   \n",
       "\n",
       "       Estimate!!Married-couple families!!Median income (dollars)  \\\n",
       "count                                         841.000000            \n",
       "mean                                        94310.200951            \n",
       "std                                         22187.222445            \n",
       "min                                         26899.000000            \n",
       "25%                                         80016.000000            \n",
       "50%                                         90777.000000            \n",
       "75%                                        104138.000000            \n",
       "max                                        191064.000000            \n",
       "\n",
       "       Estimate!!Nonfamily households!!Median income (dollars)  \n",
       "count                                         841.000000        \n",
       "mean                                        38274.027348        \n",
       "std                                         11119.168451        \n",
       "min                                          9074.000000        \n",
       "25%                                         31337.000000        \n",
       "50%                                         36530.000000        \n",
       "75%                                         43252.000000        \n",
       "max                                        105235.000000        "
      ]
     },
     "execution_count": 6,
     "metadata": {},
     "output_type": "execute_result"
    }
   ],
   "source": [
    "median_income_description = income_data[median_income_columns].describe()\n",
    "median_income_description"
   ]
  },
  {
   "cell_type": "code",
   "execution_count": 7,
   "metadata": {},
   "outputs": [
    {
     "data": {
      "text/html": [
       "<div>\n",
       "<style scoped>\n",
       "    .dataframe tbody tr th:only-of-type {\n",
       "        vertical-align: middle;\n",
       "    }\n",
       "\n",
       "    .dataframe tbody tr th {\n",
       "        vertical-align: top;\n",
       "    }\n",
       "\n",
       "    .dataframe thead th {\n",
       "        text-align: right;\n",
       "    }\n",
       "</style>\n",
       "<table border=\"1\" class=\"dataframe\">\n",
       "  <thead>\n",
       "    <tr style=\"text-align: right;\">\n",
       "      <th></th>\n",
       "      <th>Estimate!!Households!!Median income (dollars)</th>\n",
       "      <th>Estimate!!Families!!Median income (dollars)</th>\n",
       "      <th>Estimate!!Married-couple families!!Median income (dollars)</th>\n",
       "      <th>Estimate!!Nonfamily households!!Median income (dollars)</th>\n",
       "    </tr>\n",
       "  </thead>\n",
       "  <tbody>\n",
       "    <tr>\n",
       "      <th>count</th>\n",
       "      <td>841.00</td>\n",
       "      <td>841.00</td>\n",
       "      <td>841.00</td>\n",
       "      <td>841.00</td>\n",
       "    </tr>\n",
       "    <tr>\n",
       "      <th>mean</th>\n",
       "      <td>64961.15</td>\n",
       "      <td>80215.86</td>\n",
       "      <td>94310.20</td>\n",
       "      <td>38274.03</td>\n",
       "    </tr>\n",
       "    <tr>\n",
       "      <th>std</th>\n",
       "      <td>17707.23</td>\n",
       "      <td>20697.78</td>\n",
       "      <td>22187.22</td>\n",
       "      <td>11119.17</td>\n",
       "    </tr>\n",
       "    <tr>\n",
       "      <th>min</th>\n",
       "      <td>14525.00</td>\n",
       "      <td>18823.00</td>\n",
       "      <td>26899.00</td>\n",
       "      <td>9074.00</td>\n",
       "    </tr>\n",
       "    <tr>\n",
       "      <th>25%</th>\n",
       "      <td>53067.00</td>\n",
       "      <td>66546.00</td>\n",
       "      <td>80016.00</td>\n",
       "      <td>31337.00</td>\n",
       "    </tr>\n",
       "    <tr>\n",
       "      <th>50%</th>\n",
       "      <td>61300.00</td>\n",
       "      <td>76892.00</td>\n",
       "      <td>90777.00</td>\n",
       "      <td>36530.00</td>\n",
       "    </tr>\n",
       "    <tr>\n",
       "      <th>75%</th>\n",
       "      <td>72797.00</td>\n",
       "      <td>90719.00</td>\n",
       "      <td>104138.00</td>\n",
       "      <td>43252.00</td>\n",
       "    </tr>\n",
       "    <tr>\n",
       "      <th>max</th>\n",
       "      <td>151800.00</td>\n",
       "      <td>169887.00</td>\n",
       "      <td>191064.00</td>\n",
       "      <td>105235.00</td>\n",
       "    </tr>\n",
       "  </tbody>\n",
       "</table>\n",
       "</div>"
      ],
      "text/plain": [
       "       Estimate!!Households!!Median income (dollars)  \\\n",
       "count                                         841.00   \n",
       "mean                                        64961.15   \n",
       "std                                         17707.23   \n",
       "min                                         14525.00   \n",
       "25%                                         53067.00   \n",
       "50%                                         61300.00   \n",
       "75%                                         72797.00   \n",
       "max                                        151800.00   \n",
       "\n",
       "       Estimate!!Families!!Median income (dollars)  \\\n",
       "count                                       841.00   \n",
       "mean                                      80215.86   \n",
       "std                                       20697.78   \n",
       "min                                       18823.00   \n",
       "25%                                       66546.00   \n",
       "50%                                       76892.00   \n",
       "75%                                       90719.00   \n",
       "max                                      169887.00   \n",
       "\n",
       "       Estimate!!Married-couple families!!Median income (dollars)  \\\n",
       "count                                             841.00            \n",
       "mean                                            94310.20            \n",
       "std                                             22187.22            \n",
       "min                                             26899.00            \n",
       "25%                                             80016.00            \n",
       "50%                                             90777.00            \n",
       "75%                                            104138.00            \n",
       "max                                            191064.00            \n",
       "\n",
       "       Estimate!!Nonfamily households!!Median income (dollars)  \n",
       "count                                             841.00        \n",
       "mean                                            38274.03        \n",
       "std                                             11119.17        \n",
       "min                                              9074.00        \n",
       "25%                                             31337.00        \n",
       "50%                                             36530.00        \n",
       "75%                                             43252.00        \n",
       "max                                            105235.00        "
      ]
     },
     "execution_count": 7,
     "metadata": {},
     "output_type": "execute_result"
    }
   ],
   "source": [
    "median_income_description = median_income_description.round(2)\n",
    "median_income_description"
   ]
  },
  {
   "cell_type": "markdown",
   "metadata": {},
   "source": [
    "Looking at distribution of income"
   ]
  },
  {
   "cell_type": "markdown",
   "metadata": {},
   "source": [
    "All income"
   ]
  },
  {
   "cell_type": "code",
   "execution_count": 8,
   "metadata": {},
   "outputs": [
    {
     "data": {
      "text/plain": [
       "['Estimate!!Households!!Total!!Less than $10,000',\n",
       " 'Estimate!!Households!!Total!!$10,000 to $14,999',\n",
       " 'Estimate!!Households!!Total!!$15,000 to $24,999',\n",
       " 'Estimate!!Households!!Total!!$25,000 to $34,999',\n",
       " 'Estimate!!Households!!Total!!$35,000 to $49,999',\n",
       " 'Estimate!!Households!!Total!!$50,000 to $74,999',\n",
       " 'Estimate!!Households!!Total!!$75,000 to $99,999',\n",
       " 'Estimate!!Households!!Total!!$100,000 to $149,999',\n",
       " 'Estimate!!Households!!Total!!$150,000 to $199,999',\n",
       " 'Estimate!!Households!!Total!!$200,000 or more',\n",
       " 'Estimate!!Families!!Total!!Less than $10,000',\n",
       " 'Estimate!!Families!!Total!!$10,000 to $14,999',\n",
       " 'Estimate!!Families!!Total!!$15,000 to $24,999',\n",
       " 'Estimate!!Families!!Total!!$25,000 to $34,999',\n",
       " 'Estimate!!Families!!Total!!$35,000 to $49,999',\n",
       " 'Estimate!!Families!!Total!!$50,000 to $74,999',\n",
       " 'Estimate!!Families!!Total!!$75,000 to $99,999',\n",
       " 'Estimate!!Families!!Total!!$100,000 to $149,999',\n",
       " 'Estimate!!Families!!Total!!$150,000 to $199,999',\n",
       " 'Estimate!!Families!!Total!!$200,000 or more',\n",
       " 'Estimate!!Married-couple families!!Total!!Less than $10,000',\n",
       " 'Estimate!!Married-couple families!!Total!!$10,000 to $14,999',\n",
       " 'Estimate!!Married-couple families!!Total!!$15,000 to $24,999',\n",
       " 'Estimate!!Married-couple families!!Total!!$25,000 to $34,999',\n",
       " 'Estimate!!Married-couple families!!Total!!$35,000 to $49,999',\n",
       " 'Estimate!!Married-couple families!!Total!!$50,000 to $74,999',\n",
       " 'Estimate!!Married-couple families!!Total!!$75,000 to $99,999',\n",
       " 'Estimate!!Married-couple families!!Total!!$100,000 to $149,999',\n",
       " 'Estimate!!Married-couple families!!Total!!$150,000 to $199,999',\n",
       " 'Estimate!!Married-couple families!!Total!!$200,000 or more',\n",
       " 'Estimate!!Nonfamily households!!Total!!Less than $10,000',\n",
       " 'Estimate!!Nonfamily households!!Total!!$10,000 to $14,999',\n",
       " 'Estimate!!Nonfamily households!!Total!!$15,000 to $24,999',\n",
       " 'Estimate!!Nonfamily households!!Total!!$25,000 to $34,999',\n",
       " 'Estimate!!Nonfamily households!!Total!!$35,000 to $49,999',\n",
       " 'Estimate!!Nonfamily households!!Total!!$50,000 to $74,999',\n",
       " 'Estimate!!Nonfamily households!!Total!!$75,000 to $99,999',\n",
       " 'Estimate!!Nonfamily households!!Total!!$100,000 to $149,999',\n",
       " 'Estimate!!Nonfamily households!!Total!!$150,000 to $199,999',\n",
       " 'Estimate!!Nonfamily households!!Total!!$200,000 or more']"
      ]
     },
     "execution_count": 8,
     "metadata": {},
     "output_type": "execute_result"
    }
   ],
   "source": [
    "income_columns = [col for col in income_data.columns if \"total\" in col.lower() and \"$\" in col.lower() and \"margin of error\" not in col.lower()] #trying to pull all income columns\n",
    "income_columns"
   ]
  },
  {
   "cell_type": "markdown",
   "metadata": {},
   "source": [
    "Only Households"
   ]
  },
  {
   "cell_type": "code",
   "execution_count": 9,
   "metadata": {},
   "outputs": [
    {
     "data": {
      "text/plain": [
       "['Estimate!!Households!!Total!!Less than $10,000',\n",
       " 'Estimate!!Households!!Total!!$10,000 to $14,999',\n",
       " 'Estimate!!Households!!Total!!$15,000 to $24,999',\n",
       " 'Estimate!!Households!!Total!!$25,000 to $34,999',\n",
       " 'Estimate!!Households!!Total!!$35,000 to $49,999',\n",
       " 'Estimate!!Households!!Total!!$50,000 to $74,999',\n",
       " 'Estimate!!Households!!Total!!$75,000 to $99,999',\n",
       " 'Estimate!!Households!!Total!!$100,000 to $149,999',\n",
       " 'Estimate!!Households!!Total!!$150,000 to $199,999',\n",
       " 'Estimate!!Households!!Total!!$200,000 or more']"
      ]
     },
     "execution_count": 9,
     "metadata": {},
     "output_type": "execute_result"
    }
   ],
   "source": [
    "total_households_columns = [col for col in income_data.columns if \"total\" in col.lower() and \"households\" in col.lower() and \"$\" in col.lower() and \"margin of error\" not in col.lower() and \"nonfamily\" not in col.lower() ]\n",
    "total_households_columns"
   ]
  },
  {
   "cell_type": "markdown",
   "metadata": {},
   "source": [
    "Only Families"
   ]
  },
  {
   "cell_type": "code",
   "execution_count": 10,
   "metadata": {},
   "outputs": [
    {
     "data": {
      "text/plain": [
       "['Estimate!!Families!!Total!!Less than $10,000',\n",
       " 'Estimate!!Families!!Total!!$10,000 to $14,999',\n",
       " 'Estimate!!Families!!Total!!$15,000 to $24,999',\n",
       " 'Estimate!!Families!!Total!!$25,000 to $34,999',\n",
       " 'Estimate!!Families!!Total!!$35,000 to $49,999',\n",
       " 'Estimate!!Families!!Total!!$50,000 to $74,999',\n",
       " 'Estimate!!Families!!Total!!$75,000 to $99,999',\n",
       " 'Estimate!!Families!!Total!!$100,000 to $149,999',\n",
       " 'Estimate!!Families!!Total!!$150,000 to $199,999',\n",
       " 'Estimate!!Families!!Total!!$200,000 or more']"
      ]
     },
     "execution_count": 10,
     "metadata": {},
     "output_type": "execute_result"
    }
   ],
   "source": [
    "family_columns = [col for col in income_data.columns if \"total\" in col.lower() and \"families\" in col.lower() and \"$\" in col.lower() and \"margin of error\" not in col.lower() and \"married\" not in col.lower()]\n",
    "family_columns"
   ]
  },
  {
   "cell_type": "markdown",
   "metadata": {},
   "source": [
    "Only Married Couples"
   ]
  },
  {
   "cell_type": "code",
   "execution_count": 11,
   "metadata": {},
   "outputs": [
    {
     "data": {
      "text/plain": [
       "['Estimate!!Married-couple families!!Total!!Less than $10,000',\n",
       " 'Estimate!!Married-couple families!!Total!!$10,000 to $14,999',\n",
       " 'Estimate!!Married-couple families!!Total!!$15,000 to $24,999',\n",
       " 'Estimate!!Married-couple families!!Total!!$25,000 to $34,999',\n",
       " 'Estimate!!Married-couple families!!Total!!$35,000 to $49,999',\n",
       " 'Estimate!!Married-couple families!!Total!!$50,000 to $74,999',\n",
       " 'Estimate!!Married-couple families!!Total!!$75,000 to $99,999',\n",
       " 'Estimate!!Married-couple families!!Total!!$100,000 to $149,999',\n",
       " 'Estimate!!Married-couple families!!Total!!$150,000 to $199,999',\n",
       " 'Estimate!!Married-couple families!!Total!!$200,000 or more']"
      ]
     },
     "execution_count": 11,
     "metadata": {},
     "output_type": "execute_result"
    }
   ],
   "source": [
    "married_columns = [col for col in income_data.columns if \"total\" in col.lower() and \"married\" in col.lower() and \"$\" in col.lower() and \"margin of error\" not in col.lower()]\n",
    "married_columns"
   ]
  },
  {
   "cell_type": "markdown",
   "metadata": {},
   "source": [
    "Non-family"
   ]
  },
  {
   "cell_type": "code",
   "execution_count": 12,
   "metadata": {},
   "outputs": [
    {
     "data": {
      "text/plain": [
       "['Estimate!!Nonfamily households!!Total!!Less than $10,000',\n",
       " 'Estimate!!Nonfamily households!!Total!!$10,000 to $14,999',\n",
       " 'Estimate!!Nonfamily households!!Total!!$15,000 to $24,999',\n",
       " 'Estimate!!Nonfamily households!!Total!!$25,000 to $34,999',\n",
       " 'Estimate!!Nonfamily households!!Total!!$35,000 to $49,999',\n",
       " 'Estimate!!Nonfamily households!!Total!!$50,000 to $74,999',\n",
       " 'Estimate!!Nonfamily households!!Total!!$75,000 to $99,999',\n",
       " 'Estimate!!Nonfamily households!!Total!!$100,000 to $149,999',\n",
       " 'Estimate!!Nonfamily households!!Total!!$150,000 to $199,999',\n",
       " 'Estimate!!Nonfamily households!!Total!!$200,000 or more']"
      ]
     },
     "execution_count": 12,
     "metadata": {},
     "output_type": "execute_result"
    }
   ],
   "source": [
    "non_family_columns = [col for col in income_data.columns if \"total\" in col.lower() and \"non\" in col.lower() and \"$\" in col.lower() and \"margin of error\" not in col.lower() and \"married\" not in col.lower()]\n",
    "non_family_columns"
   ]
  }
 ],
 "metadata": {
  "kernelspec": {
   "display_name": "base",
   "language": "python",
   "name": "python3"
  },
  "language_info": {
   "codemirror_mode": {
    "name": "ipython",
    "version": 3
   },
   "file_extension": ".py",
   "mimetype": "text/x-python",
   "name": "python",
   "nbconvert_exporter": "python",
   "pygments_lexer": "ipython3",
   "version": "3.11.5"
  }
 },
 "nbformat": 4,
 "nbformat_minor": 2
}
